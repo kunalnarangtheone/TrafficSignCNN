{
 "cells": [
  {
   "cell_type": "code",
   "execution_count": 1,
   "metadata": {},
   "outputs": [
    {
     "name": "stderr",
     "output_type": "stream",
     "text": [
      "C:\\tools\\Anaconda3\\envs\\tf\\lib\\site-packages\\h5py\\__init__.py:72: UserWarning: h5py is running against HDF5 1.10.2 when it was built against 1.10.3, this may cause problems\n",
      "  '{0}.{1}.{2}'.format(*version.hdf5_built_version_tuple)\n"
     ]
    }
   ],
   "source": [
    "import tensorflow as tf\n",
    "import pickle\n",
    "import numpy as np\n",
    "import math as math\n",
    "import matplotlib.pyplot as plt\n",
    "import os\n",
    "from sklearn.metrics import accuracy_score\n",
    "from sklearn.metrics import precision_score\n",
    "from sklearn.metrics import recall_score\n",
    "from sklearn.metrics import f1_score"
   ]
  },
  {
   "cell_type": "code",
   "execution_count": 2,
   "metadata": {},
   "outputs": [],
   "source": [
    "def create_model(channel, activation='relu', dropout=0.0, optimizer='adam', neurons=64): \n",
    "    model = tf.keras.Sequential()\n",
    "    model.add(tf.keras.layers.Conv2D(neurons, kernel_size=3, padding='same', activation=activation, input_shape=(32, 32, channel)))\n",
    "    model.add(tf.keras.layers.MaxPool2D(pool_size=2))\n",
    "    model.add(tf.keras.layers.Dropout(dropout))\n",
    "\n",
    "    model.add(tf.keras.layers.Flatten())\n",
    "    model.add(tf.keras.layers.Dense(256, activation=activation))\n",
    "    model.add(tf.keras.layers.Dense(256, activation=activation))\n",
    "    model.add(tf.keras.layers.Dense(43, activation='softmax'))\n",
    "  \n",
    "    model.compile(loss=tf.keras.losses.sparse_categorical_crossentropy, \n",
    "                optimizer=tf.keras.optimizers.Adam(), \n",
    "                metrics=['accuracy'])\n",
    "\n",
    "    model.summary()\n",
    "\n",
    "    return model"
   ]
  },
  {
   "cell_type": "code",
   "execution_count": 3,
   "metadata": {},
   "outputs": [],
   "source": [
    "def generate_plots(model_history, epochs):\n",
    "    \"\"\"\n",
    "    A method that takes the model history of a trained model and plots its:\n",
    "    1. Training accuracy\n",
    "    2. Training loss\n",
    "    3. Validation accuracy\n",
    "    4. Validation loss\n",
    "    \"\"\"\n",
    "    acc = model_history.history['acc']\n",
    "    val_acc = model_history.history['val_acc']\n",
    "    loss = model_history.history['loss']\n",
    "    val_loss = model_history.history['val_loss']\n",
    "\n",
    "\n",
    "    plt.figure(1)\n",
    "    plt.suptitle('Accuracy learning curve', fontsize=20)\n",
    "    plt.xlabel('epochs', fontsize=14)\n",
    "    plt.ylabel('accuracy', fontsize=14)\n",
    "    plt.plot(acc, label='training accuracy')\n",
    "    plt.plot(val_acc, label='validation accuracy')\n",
    "    plt.xticks(np.arange(0, epochs + epochs/10, epochs/10))\n",
    "    plt.legend(loc=\"lower right\")\n",
    "    plt.savefig(\"accuracy.png\", dpi=300)\n",
    "\n",
    "    plt.figure(2)\n",
    "    plt.suptitle('Loss learning curve', fontsize=20)\n",
    "    plt.xlabel('epochs', fontsize=14)\n",
    "    plt.ylabel('loss', fontsize=14)\n",
    "    plt.plot(loss, label='training loss')\n",
    "    plt.plot(val_loss, label='validation loss')\n",
    "    plt.xticks(np.arange(0, epochs + epochs/10, epochs/10))\n",
    "    plt.legend(loc=\"upper right\")\n",
    "    plt.savefig(\"loss.png\", dpi=300)"
   ]
  },
  {
   "cell_type": "code",
   "execution_count": 4,
   "metadata": {},
   "outputs": [],
   "source": [
    "# def create_model2(image_shape=(32, 32, 3)):\n",
    "\n",
    "#     vgg16 = tf.keras.applications.VGG16(include_top=True,\n",
    "#                                         weights=None,\n",
    "#                                         input_shape=image_shape,\n",
    "#                                         classes=43)\n",
    "\n",
    "#     model = tf.keras.Sequential()\n",
    "\n",
    "#     # Freeze the layers\n",
    "#     for layer in model.layers:\n",
    "#         layer.trainable = False\n",
    "    \n",
    "#     model.add(vgg16)\n",
    "#     model.add(tf.keras.layers.Flatten())\n",
    "#     model.add(tf.keras.layers.Dense(512, activation=\"relu\"))\n",
    "#     model.add(tf.keras.layers.Dropout(0.4))\n",
    "#     model.add(tf.keras.layers.Dense(512, activation=\"relu\"))\n",
    "#     model.add(tf.keras.layers.Dropout(0.4))\n",
    "#     model.add(tf.keras.layers.Dense(256, activation=\"relu\"))\n",
    "#     model.add(tf.keras.layers.Dropout(0.4))\n",
    "\n",
    "#     # Add 'softmax' instead of earlier 'prediction' layer.\n",
    "#     model.add(tf.keras.layers.Dense(43, activation='softmax'))\n",
    "\n",
    "#     model.compile(loss=tf.keras.losses.sparse_categorical_crossentropy, \n",
    "#                 optimizer=tf.keras.optimizers.Adam(), \n",
    "#                 metrics=['accuracy'])\n",
    "\n",
    "#     model.summary()\n",
    "\n",
    "#     return model"
   ]
  },
  {
   "cell_type": "code",
   "execution_count": 5,
   "metadata": {},
   "outputs": [],
   "source": [
    "# Variables\n",
    "EPOCHS = 15\n",
    "BATCH_SIZE = 512\n",
    "file = 0"
   ]
  },
  {
   "cell_type": "code",
   "execution_count": 6,
   "metadata": {
    "lines_to_next_cell": 2
   },
   "outputs": [],
   "source": [
    "if file==0 or file==1 or file==2 or file==3:\n",
    "    channel = 3\n",
    "else:\n",
    "    channel = 1\n",
    "\n",
    "# Opening file for reading in binary mode\n",
    "with open('../data/data{}.pickle'.format(file), 'rb') as f:\n",
    "    data = pickle.load(f, encoding='latin1')  # dictionary type"
   ]
  },
  {
   "cell_type": "code",
   "execution_count": 7,
   "metadata": {},
   "outputs": [],
   "source": [
    "y_train = data['y_train']\n",
    "y_val = data['y_validation']\n",
    "y_test = data['y_test']"
   ]
  },
  {
   "cell_type": "code",
   "execution_count": 8,
   "metadata": {},
   "outputs": [],
   "source": [
    "# Making channels come at the end\n",
    "X_train = data['x_train'] = data['x_train'].transpose(0, 2, 3, 1)\n",
    "X_val = data['x_validation'] = data['x_validation'].transpose(0, 2, 3, 1)\n",
    "X_test = data['x_test'] = data['x_test'].transpose(0, 2, 3, 1)"
   ]
  },
  {
   "cell_type": "code",
   "execution_count": 9,
   "metadata": {},
   "outputs": [
    {
     "name": "stdout",
     "output_type": "stream",
     "text": [
      "x_test: (12630, 32, 32, 3)\n",
      "y_validation: (4410,)\n",
      "x_validation: (4410, 32, 32, 3)\n",
      "labels: 43\n",
      "x_train: (86989, 32, 32, 3)\n",
      "y_test: (12630,)\n",
      "y_train: (86989,)\n"
     ]
    }
   ],
   "source": [
    "# Showing loaded data from file\n",
    "for i, j in data.items():\n",
    "    if i == 'labels':\n",
    "        print(i + ':', len(j))\n",
    "    else:\n",
    "        print(i + ':', j.shape)"
   ]
  },
  {
   "cell_type": "code",
   "execution_count": 10,
   "metadata": {},
   "outputs": [
    {
     "name": "stdout",
     "output_type": "stream",
     "text": [
      "WARNING:tensorflow:From C:\\tools\\Anaconda3\\envs\\tf\\lib\\site-packages\\tensorflow\\python\\ops\\init_ops.py:1251: calling VarianceScaling.__init__ (from tensorflow.python.ops.init_ops) with dtype is deprecated and will be removed in a future version.\n",
      "Instructions for updating:\n",
      "Call initializer instance with the dtype argument instead of passing it to the constructor\n",
      "Model: \"sequential\"\n",
      "_________________________________________________________________\n",
      "Layer (type)                 Output Shape              Param #   \n",
      "=================================================================\n",
      "conv2d (Conv2D)              (None, 32, 32, 128)       3584      \n",
      "_________________________________________________________________\n",
      "max_pooling2d (MaxPooling2D) (None, 16, 16, 128)       0         \n",
      "_________________________________________________________________\n",
      "dropout (Dropout)            (None, 16, 16, 128)       0         \n",
      "_________________________________________________________________\n",
      "flatten (Flatten)            (None, 32768)             0         \n",
      "_________________________________________________________________\n",
      "dense (Dense)                (None, 256)               8388864   \n",
      "_________________________________________________________________\n",
      "dense_1 (Dense)              (None, 256)               65792     \n",
      "_________________________________________________________________\n",
      "dense_2 (Dense)              (None, 43)                11051     \n",
      "=================================================================\n",
      "Total params: 8,469,291\n",
      "Trainable params: 8,469,291\n",
      "Non-trainable params: 0\n",
      "_________________________________________________________________\n",
      "WARNING:tensorflow:ModelCheckpoint mode main is unknown, fallback to auto mode.\n"
     ]
    }
   ],
   "source": [
    "# Initialize the directories\n",
    "save_model = \"saved_models\"\n",
    "root_dir = os.path.abspath('./')\n",
    "model_save_dir = os.path.join(root_dir, save_model)\n",
    "os.makedirs(model_save_dir, exist_ok=True)\n",
    "\n",
    "model = create_model(channel=channel, activation='sigmoid', dropout=0.5, optimizer='adam', neurons=128)\n",
    "\n",
    "# For enabling early stopping\n",
    "es = tf.keras.callbacks.EarlyStopping(monitor='val_loss', patience=5)\n",
    "mc = tf.keras.callbacks.ModelCheckpoint('{}/best_model_data{}.h5'.format(model_save_dir, file), monitor='val_loss', mode='main', save_best_only=True, verbose=1)"
   ]
  },
  {
   "cell_type": "code",
   "execution_count": 11,
   "metadata": {},
   "outputs": [
    {
     "name": "stdout",
     "output_type": "stream",
     "text": [
      "Epoch 1/15\n",
      "168/169 [============================>.] - ETA: 0s - loss: 3.3238 - acc: 0.1510\n",
      "Epoch 00001: val_loss improved from inf to 2.54180, saving model to C:\\Users\\knarang\\Documents\\F3\\TrafficSignCNN\\step 7\\saved_models/best_model_data0.h5\n",
      "169/169 [==============================] - 53s 312ms/step - loss: 3.3194 - acc: 0.1517 - val_loss: 2.5418 - val_acc: 0.3594\n",
      "Epoch 2/15\n",
      "168/169 [============================>.] - ETA: 0s - loss: 1.8363 - acc: 0.5631\n",
      "Epoch 00002: val_loss improved from 2.54180 to 1.21360, saving model to C:\\Users\\knarang\\Documents\\F3\\TrafficSignCNN\\step 7\\saved_models/best_model_data0.h5\n",
      "169/169 [==============================] - 51s 303ms/step - loss: 1.8327 - acc: 0.5645 - val_loss: 1.2136 - val_acc: 0.7170\n",
      "Epoch 3/15\n",
      "168/169 [============================>.] - ETA: 0s - loss: 0.7938 - acc: 0.8544\n",
      "Epoch 00003: val_loss improved from 1.21360 to 0.63548, saving model to C:\\Users\\knarang\\Documents\\F3\\TrafficSignCNN\\step 7\\saved_models/best_model_data0.h5\n",
      "169/169 [==============================] - 52s 306ms/step - loss: 0.7921 - acc: 0.8546 - val_loss: 0.6355 - val_acc: 0.8542\n",
      "Epoch 4/15\n",
      "168/169 [============================>.] - ETA: 0s - loss: 0.4007 - acc: 0.9204\n",
      "Epoch 00004: val_loss improved from 0.63548 to 0.43440, saving model to C:\\Users\\knarang\\Documents\\F3\\TrafficSignCNN\\step 7\\saved_models/best_model_data0.h5\n",
      "169/169 [==============================] - 52s 310ms/step - loss: 0.4002 - acc: 0.9206 - val_loss: 0.4344 - val_acc: 0.8791\n",
      "Epoch 5/15\n",
      "168/169 [============================>.] - ETA: 0s - loss: 0.2665 - acc: 0.9429\n",
      "Epoch 00005: val_loss improved from 0.43440 to 0.36825, saving model to C:\\Users\\knarang\\Documents\\F3\\TrafficSignCNN\\step 7\\saved_models/best_model_data0.h5\n",
      "169/169 [==============================] - 53s 314ms/step - loss: 0.2662 - acc: 0.9429 - val_loss: 0.3682 - val_acc: 0.8898\n",
      "Epoch 6/15\n",
      "168/169 [============================>.] - ETA: 0s - loss: 0.2001 - acc: 0.9547\n",
      "Epoch 00006: val_loss improved from 0.36825 to 0.32298, saving model to C:\\Users\\knarang\\Documents\\F3\\TrafficSignCNN\\step 7\\saved_models/best_model_data0.h5\n",
      "169/169 [==============================] - 52s 309ms/step - loss: 0.1998 - acc: 0.9547 - val_loss: 0.3230 - val_acc: 0.9007\n",
      "Epoch 7/15\n",
      "168/169 [============================>.] - ETA: 0s - loss: 0.1614 - acc: 0.9616\n",
      "Epoch 00007: val_loss improved from 0.32298 to 0.28130, saving model to C:\\Users\\knarang\\Documents\\F3\\TrafficSignCNN\\step 7\\saved_models/best_model_data0.h5\n",
      "169/169 [==============================] - 54s 319ms/step - loss: 0.1615 - acc: 0.9616 - val_loss: 0.2813 - val_acc: 0.9132\n",
      "Epoch 8/15\n",
      "168/169 [============================>.] - ETA: 0s - loss: 0.1395 - acc: 0.9661\n",
      "Epoch 00008: val_loss improved from 0.28130 to 0.26347, saving model to C:\\Users\\knarang\\Documents\\F3\\TrafficSignCNN\\step 7\\saved_models/best_model_data0.h5\n",
      "169/169 [==============================] - 51s 303ms/step - loss: 0.1393 - acc: 0.9662 - val_loss: 0.2635 - val_acc: 0.9206\n",
      "Epoch 9/15\n",
      "168/169 [============================>.] - ETA: 0s - loss: 0.1249 - acc: 0.9687\n",
      "Epoch 00009: val_loss did not improve from 0.26347\n",
      "169/169 [==============================] - 51s 301ms/step - loss: 0.1250 - acc: 0.9686 - val_loss: 0.2905 - val_acc: 0.9179\n",
      "Epoch 10/15\n",
      "168/169 [============================>.] - ETA: 0s - loss: 0.1126 - acc: 0.9709\n",
      "Epoch 00010: val_loss did not improve from 0.26347\n",
      "169/169 [==============================] - 51s 303ms/step - loss: 0.1126 - acc: 0.9710 - val_loss: 0.2687 - val_acc: 0.9245\n",
      "Epoch 11/15\n",
      "168/169 [============================>.] - ETA: 0s - loss: 0.1000 - acc: 0.9737\n",
      "Epoch 00011: val_loss did not improve from 0.26347\n",
      "169/169 [==============================] - 51s 304ms/step - loss: 0.1001 - acc: 0.9737 - val_loss: 0.2887 - val_acc: 0.9179\n",
      "Epoch 12/15\n",
      "168/169 [============================>.] - ETA: 0s - loss: 0.0956 - acc: 0.9747\n",
      "Epoch 00012: val_loss improved from 0.26347 to 0.23638, saving model to C:\\Users\\knarang\\Documents\\F3\\TrafficSignCNN\\step 7\\saved_models/best_model_data0.h5\n",
      "169/169 [==============================] - 55s 327ms/step - loss: 0.0957 - acc: 0.9746 - val_loss: 0.2364 - val_acc: 0.9299\n",
      "Epoch 13/15\n",
      "168/169 [============================>.] - ETA: 0s - loss: 0.0897 - acc: 0.9757\n",
      "Epoch 00013: val_loss did not improve from 0.23638\n",
      "169/169 [==============================] - 53s 315ms/step - loss: 0.0898 - acc: 0.9756 - val_loss: 0.2574 - val_acc: 0.9204\n",
      "Epoch 14/15\n",
      "168/169 [============================>.] - ETA: 0s - loss: 0.0892 - acc: 0.9757\n",
      "Epoch 00014: val_loss did not improve from 0.23638\n",
      "169/169 [==============================] - 55s 325ms/step - loss: 0.0891 - acc: 0.9758 - val_loss: 0.2709 - val_acc: 0.9206\n",
      "Epoch 15/15\n",
      "168/169 [============================>.] - ETA: 0s - loss: 0.0821 - acc: 0.9772\n",
      "Epoch 00015: val_loss did not improve from 0.23638\n",
      "169/169 [==============================] - 55s 325ms/step - loss: 0.0821 - acc: 0.9772 - val_loss: 0.2731 - val_acc: 0.9204\n"
     ]
    }
   ],
   "source": [
    "with tf.device('/device:GPU:0'):\n",
    "\n",
    "    # Random Rotations\n",
    "    # define data preparation\n",
    "    datagen = tf.keras.preprocessing.image.ImageDataGenerator(rotation_range=20, brightness_range=[0.3, 0.6])\n",
    "    datagen.fit(X_train)\n",
    "    \n",
    "    \n",
    "    history = model.fit_generator(datagen.flow(X_train, y_train, batch_size=BATCH_SIZE),\n",
    "                                      validation_data=(X_val, y_val),\n",
    "                                      steps_per_epoch=len(X_train) // BATCH_SIZE,\n",
    "                                      epochs=EPOCHS,\n",
    "                                      callbacks=[es, mc])\n",
    "            "
   ]
  },
  {
   "cell_type": "code",
   "execution_count": 12,
   "metadata": {},
   "outputs": [],
   "source": [
    "predictions = model.predict(X_test, batch_size=512)\n",
    "\n",
    "y_pred = [np.argmax(prediction) for prediction in predictions]\n",
    "\n",
    "acc = accuracy_score(y_test, y_pred)\n",
    "pre = precision_score(y_test, y_pred, average=\"macro\")\n",
    "rec = recall_score(y_test, y_pred, average=\"macro\")\n",
    "f1 = f1_score(y_test, y_pred, average=\"macro\")"
   ]
  },
  {
   "cell_type": "code",
   "execution_count": 13,
   "metadata": {},
   "outputs": [
    {
     "name": "stdout",
     "output_type": "stream",
     "text": [
      "0.9066508313539192 0.8847435567598222 0.8743078599863229 0.8715096590092759\n"
     ]
    }
   ],
   "source": [
    "print(acc, pre, rec, f1)"
   ]
  },
  {
   "cell_type": "code",
   "execution_count": 14,
   "metadata": {},
   "outputs": [
    {
     "data": {
      "image/png": "[encoded data removed]",
      "text/plain": [
       "<Figure size 432x288 with 1 Axes>"
      ]
     },
     "metadata": {
      "needs_background": "light"
     },
     "output_type": "display_data"
    },
    {
     "data": {
      "image/png": "[encoded data removed]",
      "text/plain": [
       "<Figure size 432x288 with 1 Axes>"
      ]
     },
     "metadata": {
      "needs_background": "light"
     },
     "output_type": "display_data"
    }
   ],
   "source": [
    "generate_plots(history, EPOCHS)"
   ]
  },
  {
   "cell_type": "code",
   "execution_count": 15,
   "metadata": {},
   "outputs": [],
   "source": [
    "model.save('{}/best_model_data{}.h5'.format(model_save_dir, file)) \n",
    "\n",
    "# Recreate the exact same model, including its weights and the optimizer\n",
    "# new_model = tf.keras.models.load_model('my_model.h5')\n",
    "\n",
    "# Show the model architecture\n",
    "# new_model.summary()"
   ]
  },
  {
   "cell_type": "code",
   "execution_count": null,
   "metadata": {
    "lines_to_next_cell": 2
   },
   "outputs": [],
   "source": []
  }
 ],
 "metadata": {
  "jupytext": {
   "cell_metadata_filter": "-all",
   "main_language": "python",
   "notebook_metadata_filter": "-all"
  },
  "kernelspec": {
   "display_name": "Python 3",
   "language": "python",
   "name": "python3"
  },
  "language_info": {
   "codemirror_mode": {
    "name": "ipython",
    "version": 3
   },
   "file_extension": ".py",
   "mimetype": "text/x-python",
   "name": "python",
   "nbconvert_exporter": "python",
   "pygments_lexer": "ipython3",
   "version": "3.7.1"
  }
 },
 "nbformat": 4,
 "nbformat_minor": 2
}
