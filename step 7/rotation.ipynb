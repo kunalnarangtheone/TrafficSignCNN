{
 "cells": [
  {
   "cell_type": "code",
   "execution_count": 1,
   "metadata": {},
   "outputs": [
    {
     "name": "stderr",
     "output_type": "stream",
     "text": [
      "C:\\tools\\Anaconda3\\envs\\tf\\lib\\site-packages\\h5py\\__init__.py:72: UserWarning: h5py is running against HDF5 1.10.2 when it was built against 1.10.3, this may cause problems\n",
      "  '{0}.{1}.{2}'.format(*version.hdf5_built_version_tuple)\n"
     ]
    }
   ],
   "source": [
    "import tensorflow as tf\n",
    "import pickle\n",
    "import numpy as np\n",
    "import math as math\n",
    "import matplotlib.pyplot as plt\n",
    "import os\n",
    "from sklearn.metrics import accuracy_score\n",
    "from sklearn.metrics import precision_score\n",
    "from sklearn.metrics import recall_score\n",
    "from sklearn.metrics import f1_score"
   ]
  },
  {
   "cell_type": "code",
   "execution_count": 2,
   "metadata": {},
   "outputs": [],
   "source": [
    "def create_model(channel, activation='relu', dropout=0.0, optimizer='adam', neurons=64): \n",
    "    model = tf.keras.Sequential()\n",
    "    model.add(tf.keras.layers.Conv2D(neurons, kernel_size=3, padding='same', activation=activation, input_shape=(32, 32, channel)))\n",
    "    model.add(tf.keras.layers.MaxPool2D(pool_size=2))\n",
    "    model.add(tf.keras.layers.Dropout(dropout))\n",
    "\n",
    "    model.add(tf.keras.layers.Flatten())\n",
    "    model.add(tf.keras.layers.Dense(256, activation=activation))\n",
    "    model.add(tf.keras.layers.Dense(256, activation=activation))\n",
    "    model.add(tf.keras.layers.Dense(43, activation='softmax'))\n",
    "  \n",
    "    model.compile(loss=tf.keras.losses.sparse_categorical_crossentropy, \n",
    "                optimizer=tf.keras.optimizers.Adam(), \n",
    "                metrics=['accuracy'])\n",
    "\n",
    "    model.summary()\n",
    "\n",
    "    return model"
   ]
  },
  {
   "cell_type": "code",
   "execution_count": 3,
   "metadata": {},
   "outputs": [],
   "source": [
    "def generate_plots(directory, file, model_history, epochs):\n",
    "    \"\"\"\n",
    "    A method that takes the model history of a trained model and plots its:\n",
    "    1. Training accuracy\n",
    "    2. Training loss\n",
    "    3. Validation accuracy\n",
    "    4. Validation loss\n",
    "    \"\"\"\n",
    "    acc = model_history.history['acc']\n",
    "    val_acc = model_history.history['val_acc']\n",
    "    loss = model_history.history['loss']\n",
    "    val_loss = model_history.history['val_loss']\n",
    "\n",
    "\n",
    "    plt.figure(1)\n",
    "    plt.suptitle('Accuracy learning curve', fontsize=20)\n",
    "    plt.xlabel('epochs', fontsize=14)\n",
    "    plt.ylabel('accuracy', fontsize=14)\n",
    "    plt.plot(acc, label='training accuracy')\n",
    "    plt.plot(val_acc, label='validation accuracy')\n",
    "    plt.xticks(np.arange(0, epochs + epochs/10, epochs/10))\n",
    "    plt.legend(loc=\"lower right\")\n",
    "    plt.savefig(\"{}/accuracy_{}.png\".format(directory, file), dpi=300)\n",
    "\n",
    "    plt.figure(2)\n",
    "    plt.suptitle('Loss learning curve', fontsize=20)\n",
    "    plt.xlabel('epochs', fontsize=14)\n",
    "    plt.ylabel('loss', fontsize=14)\n",
    "    plt.plot(loss, label='training loss')\n",
    "    plt.plot(val_loss, label='validation loss')\n",
    "    plt.xticks(np.arange(0, epochs + epochs/10, epochs/10))\n",
    "    plt.legend(loc=\"upper right\")\n",
    "    plt.savefig(\"{}/loss_{}.png\".format(directory, file), dpi=300)"
   ]
  },
  {
   "cell_type": "code",
   "execution_count": 4,
   "metadata": {},
   "outputs": [],
   "source": [
    "# def create_model2(image_shape=(32, 32, 3)):\n",
    "\n",
    "#     vgg16 = tf.keras.applications.VGG16(include_top=True,\n",
    "#                                         weights=None,\n",
    "#                                         input_shape=image_shape,\n",
    "#                                         classes=43)\n",
    "\n",
    "#     model = tf.keras.Sequential()\n",
    "\n",
    "#     # Freeze the layers\n",
    "#     for layer in model.layers:\n",
    "#         layer.trainable = False\n",
    "    \n",
    "#     model.add(vgg16)\n",
    "#     model.add(tf.keras.layers.Flatten())\n",
    "#     model.add(tf.keras.layers.Dense(512, activation=\"relu\"))\n",
    "#     model.add(tf.keras.layers.Dropout(0.4))\n",
    "#     model.add(tf.keras.layers.Dense(512, activation=\"relu\"))\n",
    "#     model.add(tf.keras.layers.Dropout(0.4))\n",
    "#     model.add(tf.keras.layers.Dense(256, activation=\"relu\"))\n",
    "#     model.add(tf.keras.layers.Dropout(0.4))\n",
    "\n",
    "#     # Add 'softmax' instead of earlier 'prediction' layer.\n",
    "#     model.add(tf.keras.layers.Dense(43, activation='softmax'))\n",
    "\n",
    "#     model.compile(loss=tf.keras.losses.sparse_categorical_crossentropy, \n",
    "#                 optimizer=tf.keras.optimizers.Adam(), \n",
    "#                 metrics=['accuracy'])\n",
    "\n",
    "#     model.summary()\n",
    "\n",
    "#     return model"
   ]
  },
  {
   "cell_type": "code",
   "execution_count": 5,
   "metadata": {},
   "outputs": [],
   "source": [
    "# Variables\n",
    "EPOCHS = 15\n",
    "BATCH_SIZE = 512\n",
    "file = 3"
   ]
  },
  {
   "cell_type": "code",
   "execution_count": 6,
   "metadata": {
    "lines_to_next_cell": 2
   },
   "outputs": [],
   "source": [
    "if file==0 or file==1 or file==2 or file==3:\n",
    "    channel = 3\n",
    "else:\n",
    "    channel = 1\n",
    "\n",
    "# Opening file for reading in binary mode\n",
    "with open('../data/data{}.pickle'.format(file), 'rb') as f:\n",
    "    data = pickle.load(f, encoding='latin1')  # dictionary type"
   ]
  },
  {
   "cell_type": "code",
   "execution_count": 7,
   "metadata": {},
   "outputs": [],
   "source": [
    "y_train = data['y_train']\n",
    "y_val = data['y_validation']\n",
    "y_test = data['y_test']"
   ]
  },
  {
   "cell_type": "code",
   "execution_count": 8,
   "metadata": {},
   "outputs": [],
   "source": [
    "# Making channels come at the end\n",
    "X_train = data['x_train'] = data['x_train'].transpose(0, 2, 3, 1)\n",
    "X_val = data['x_validation'] = data['x_validation'].transpose(0, 2, 3, 1)\n",
    "X_test = data['x_test'] = data['x_test'].transpose(0, 2, 3, 1)"
   ]
  },
  {
   "cell_type": "code",
   "execution_count": 9,
   "metadata": {},
   "outputs": [
    {
     "name": "stdout",
     "output_type": "stream",
     "text": [
      "labels: 43\n",
      "y_validation: (4410,)\n",
      "x_test: (12630, 32, 32, 3)\n",
      "x_validation: (4410, 32, 32, 3)\n",
      "x_train: (86989, 32, 32, 3)\n",
      "y_test: (12630,)\n",
      "y_train: (86989,)\n"
     ]
    }
   ],
   "source": [
    "# Showing loaded data from file\n",
    "for i, j in data.items():\n",
    "    if i == 'labels':\n",
    "        print(i + ':', len(j))\n",
    "    else:\n",
    "        print(i + ':', j.shape)"
   ]
  },
  {
   "cell_type": "code",
   "execution_count": 10,
   "metadata": {},
   "outputs": [
    {
     "name": "stdout",
     "output_type": "stream",
     "text": [
      "WARNING:tensorflow:From C:\\tools\\Anaconda3\\envs\\tf\\lib\\site-packages\\tensorflow\\python\\ops\\init_ops.py:1251: calling VarianceScaling.__init__ (from tensorflow.python.ops.init_ops) with dtype is deprecated and will be removed in a future version.\n",
      "Instructions for updating:\n",
      "Call initializer instance with the dtype argument instead of passing it to the constructor\n",
      "Model: \"sequential\"\n",
      "_________________________________________________________________\n",
      "Layer (type)                 Output Shape              Param #   \n",
      "=================================================================\n",
      "conv2d (Conv2D)              (None, 32, 32, 128)       3584      \n",
      "_________________________________________________________________\n",
      "max_pooling2d (MaxPooling2D) (None, 16, 16, 128)       0         \n",
      "_________________________________________________________________\n",
      "dropout (Dropout)            (None, 16, 16, 128)       0         \n",
      "_________________________________________________________________\n",
      "flatten (Flatten)            (None, 32768)             0         \n",
      "_________________________________________________________________\n",
      "dense (Dense)                (None, 256)               8388864   \n",
      "_________________________________________________________________\n",
      "dense_1 (Dense)              (None, 256)               65792     \n",
      "_________________________________________________________________\n",
      "dense_2 (Dense)              (None, 43)                11051     \n",
      "=================================================================\n",
      "Total params: 8,469,291\n",
      "Trainable params: 8,469,291\n",
      "Non-trainable params: 0\n",
      "_________________________________________________________________\n",
      "WARNING:tensorflow:ModelCheckpoint mode main is unknown, fallback to auto mode.\n"
     ]
    }
   ],
   "source": [
    "# Initialize the directories\n",
    "save_model = \"saved_models\"\n",
    "plot_dir = \"plots\"\n",
    "results_dir = \"results\"\n",
    "\n",
    "root_dir = os.path.abspath('./')\n",
    "model_save_dir = os.path.join(root_dir, save_model)\n",
    "plot_save_dir = os.path.join(root_dir, plot_dir)\n",
    "results_save_dir = os.path.join(root_dir, results_dir)\n",
    "\n",
    "\n",
    "os.makedirs(model_save_dir, exist_ok=True)\n",
    "os.makedirs(plot_save_dir, exist_ok=True)\n",
    "os.makedirs(results_save_dir, exist_ok=True)\n",
    "\n",
    "\n",
    "model = create_model(channel=channel, activation=\"tanh\", dropout=0.3, optimizer=\"adam\", neurons=128)\n",
    "\n",
    "# For enabling early stopping\n",
    "es = tf.keras.callbacks.EarlyStopping(monitor='val_loss', patience=5)\n",
    "mc = tf.keras.callbacks.ModelCheckpoint('{}/best_model_data{}.h5'.format(model_save_dir, file), monitor='val_loss', mode='main', save_best_only=True, verbose=1)"
   ]
  },
  {
   "cell_type": "code",
   "execution_count": 11,
   "metadata": {},
   "outputs": [
    {
     "name": "stdout",
     "output_type": "stream",
     "text": [
      "Epoch 1/15\n",
      "168/169 [============================>.] - ETA: 0s - loss: 3.7998 - acc: 0.0231\n",
      "Epoch 00001: val_loss improved from inf to 3.77681, saving model to C:\\Users\\knarang\\Documents\\F3\\TrafficSignCNN\\step 7\\saved_models/best_model_data3.h5\n",
      "169/169 [==============================] - 50s 297ms/step - loss: 3.7996 - acc: 0.0231 - val_loss: 3.7768 - val_acc: 0.0159\n",
      "Epoch 2/15\n",
      "168/169 [============================>.] - ETA: 0s - loss: 3.7794 - acc: 0.0228\n",
      "Epoch 00002: val_loss did not improve from 3.77681\n",
      "169/169 [==============================] - 50s 296ms/step - loss: 3.7795 - acc: 0.0228 - val_loss: 3.7814 - val_acc: 0.0245\n",
      "Epoch 3/15\n",
      "168/169 [============================>.] - ETA: 0s - loss: 3.7788 - acc: 0.0234\n",
      "Epoch 00003: val_loss improved from 3.77681 to 3.77186, saving model to C:\\Users\\knarang\\Documents\\F3\\TrafficSignCNN\\step 7\\saved_models/best_model_data3.h5\n",
      "169/169 [==============================] - 51s 300ms/step - loss: 3.7787 - acc: 0.0234 - val_loss: 3.7719 - val_acc: 0.0175\n",
      "Epoch 4/15\n",
      "168/169 [============================>.] - ETA: 0s - loss: 3.7788 - acc: 0.0227\n",
      "Epoch 00004: val_loss did not improve from 3.77186\n",
      "169/169 [==============================] - 50s 293ms/step - loss: 3.7788 - acc: 0.0227 - val_loss: 3.7772 - val_acc: 0.0166\n",
      "Epoch 5/15\n",
      "168/169 [============================>.] - ETA: 0s - loss: 3.7788 - acc: 0.0230\n",
      "Epoch 00005: val_loss improved from 3.77186 to 3.75506, saving model to C:\\Users\\knarang\\Documents\\F3\\TrafficSignCNN\\step 7\\saved_models/best_model_data3.h5\n",
      "169/169 [==============================] - 50s 296ms/step - loss: 3.7788 - acc: 0.0230 - val_loss: 3.7551 - val_acc: 0.0070\n",
      "Epoch 6/15\n",
      "168/169 [============================>.] - ETA: 0s - loss: 3.7775 - acc: 0.0237\n",
      "Epoch 00006: val_loss improved from 3.75506 to 3.74325, saving model to C:\\Users\\knarang\\Documents\\F3\\TrafficSignCNN\\step 7\\saved_models/best_model_data3.h5\n",
      "169/169 [==============================] - 51s 299ms/step - loss: 3.7775 - acc: 0.0237 - val_loss: 3.7433 - val_acc: 0.0388\n",
      "Epoch 7/15\n",
      "168/169 [============================>.] - ETA: 0s - loss: 3.7768 - acc: 0.0238\n",
      "Epoch 00007: val_loss did not improve from 3.74325\n",
      "169/169 [==============================] - 50s 295ms/step - loss: 3.7769 - acc: 0.0237 - val_loss: 3.7933 - val_acc: 0.0438\n",
      "Epoch 8/15\n",
      "168/169 [============================>.] - ETA: 0s - loss: 3.7777 - acc: 0.0229\n",
      "Epoch 00008: val_loss did not improve from 3.74325\n",
      "169/169 [==============================] - 48s 287ms/step - loss: 3.7777 - acc: 0.0230 - val_loss: 3.7653 - val_acc: 0.0252\n",
      "Epoch 9/15\n",
      "168/169 [============================>.] - ETA: 0s - loss: 3.7775 - acc: 0.0226\n",
      "Epoch 00009: val_loss did not improve from 3.74325\n",
      "169/169 [==============================] - 49s 289ms/step - loss: 3.7775 - acc: 0.0226 - val_loss: 3.7840 - val_acc: 0.0197\n",
      "Epoch 10/15\n",
      "168/169 [============================>.] - ETA: 0s - loss: 3.7772 - acc: 0.0238\n",
      "Epoch 00010: val_loss did not improve from 3.74325\n",
      "169/169 [==============================] - 49s 289ms/step - loss: 3.7772 - acc: 0.0238 - val_loss: 3.7826 - val_acc: 0.0211\n",
      "Epoch 11/15\n",
      "168/169 [============================>.] - ETA: 0s - loss: 3.7772 - acc: 0.0223\n",
      "Epoch 00011: val_loss did not improve from 3.74325\n",
      "169/169 [==============================] - 49s 290ms/step - loss: 3.7772 - acc: 0.0224 - val_loss: 3.7750 - val_acc: 0.0100\n"
     ]
    }
   ],
   "source": [
    "with tf.device('/device:GPU:0'):\n",
    "\n",
    "    # Random Rotations\n",
    "    # define data preparation\n",
    "    datagen = tf.keras.preprocessing.image.ImageDataGenerator(rotation_range=20, brightness_range=[0.3, 0.6])\n",
    "    datagen.fit(X_train)\n",
    "    \n",
    "    \n",
    "    history = model.fit_generator(datagen.flow(X_train, y_train, batch_size=BATCH_SIZE),\n",
    "                                      validation_data=(X_val, y_val),\n",
    "                                      steps_per_epoch=len(X_train) // BATCH_SIZE,\n",
    "                                      epochs=EPOCHS,\n",
    "                                      callbacks=[es, mc])\n",
    "            "
   ]
  },
  {
   "cell_type": "code",
   "execution_count": 12,
   "metadata": {},
   "outputs": [
    {
     "name": "stderr",
     "output_type": "stream",
     "text": [
      "C:\\tools\\Anaconda3\\envs\\tf\\lib\\site-packages\\sklearn\\metrics\\classification.py:1437: UndefinedMetricWarning: Precision is ill-defined and being set to 0.0 in labels with no predicted samples.\n",
      "  'precision', 'predicted', average, warn_for)\n",
      "C:\\tools\\Anaconda3\\envs\\tf\\lib\\site-packages\\sklearn\\metrics\\classification.py:1437: UndefinedMetricWarning: F-score is ill-defined and being set to 0.0 in labels with no predicted samples.\n",
      "  'precision', 'predicted', average, warn_for)\n"
     ]
    }
   ],
   "source": [
    "predictions = model.predict(X_test, batch_size=512)\n",
    "\n",
    "y_pred = [np.argmax(prediction) for prediction in predictions]\n",
    "\n",
    "acc = accuracy_score(y_test, y_pred)\n",
    "pre = precision_score(y_test, y_pred, average=\"macro\")\n",
    "rec = recall_score(y_test, y_pred, average=\"macro\")\n",
    "f1 = f1_score(y_test, y_pred, average=\"macro\")"
   ]
  },
  {
   "cell_type": "code",
   "execution_count": 13,
   "metadata": {},
   "outputs": [],
   "source": [
    "f = open(\"{}/results_{}.txt\".format(results_save_dir, file), \"w+\")\n",
    "f.write(\"Accuracy: {}\\n\".format(acc))\n",
    "f.write(\"Precision: {}\\n\".format(pre))\n",
    "f.write(\"Recall: {}\\n\".format(rec))\n",
    "f.write(\"F1 score: {}\\n\".format(f1))\n",
    "f.close()"
   ]
  },
  {
   "cell_type": "code",
   "execution_count": 14,
   "metadata": {},
   "outputs": [
    {
     "data": {
      "image/png": "[encoded data removed]",
      "text/plain": [
       "<Figure size 432x288 with 1 Axes>"
      ]
     },
     "metadata": {
      "needs_background": "light"
     },
     "output_type": "display_data"
    },
    {
     "data": {
      "image/png": "[encoded data removed]",
      "text/plain": [
       "<Figure size 432x288 with 1 Axes>"
      ]
     },
     "metadata": {
      "needs_background": "light"
     },
     "output_type": "display_data"
    }
   ],
   "source": [
    "generate_plots(plot_save_dir, file, history, EPOCHS)"
   ]
  },
  {
   "cell_type": "code",
   "execution_count": 15,
   "metadata": {},
   "outputs": [],
   "source": [
    "model.save('{}/best_model_data{}.h5'.format(model_save_dir, file)) \n",
    "\n",
    "# Recreate the exact same model, including its weights and the optimizer\n",
    "# new_model = tf.keras.models.load_model('my_model.h5')\n",
    "\n",
    "# Show the model architecture\n",
    "# new_model.summary()"
   ]
  },
  {
   "cell_type": "code",
   "execution_count": null,
   "metadata": {
    "lines_to_next_cell": 2
   },
   "outputs": [],
   "source": []
  }
 ],
 "metadata": {
  "jupytext": {
   "cell_metadata_filter": "-all",
   "main_language": "python",
   "notebook_metadata_filter": "-all"
  },
  "kernelspec": {
   "display_name": "Python 3",
   "language": "python",
   "name": "python3"
  },
  "language_info": {
   "codemirror_mode": {
    "name": "ipython",
    "version": 3
   },
   "file_extension": ".py",
   "mimetype": "text/x-python",
   "name": "python",
   "nbconvert_exporter": "python",
   "pygments_lexer": "ipython3",
   "version": "3.7.1"
  }
 },
 "nbformat": 4,
 "nbformat_minor": 2
}
