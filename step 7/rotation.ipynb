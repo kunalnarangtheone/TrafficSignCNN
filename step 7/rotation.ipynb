{
 "cells": [
  {
   "cell_type": "code",
   "execution_count": 1,
   "metadata": {},
   "outputs": [
    {
     "name": "stderr",
     "output_type": "stream",
     "text": [
      "C:\\tools\\Anaconda3\\envs\\tf\\lib\\site-packages\\h5py\\__init__.py:72: UserWarning: h5py is running against HDF5 1.10.2 when it was built against 1.10.3, this may cause problems\n",
      "  '{0}.{1}.{2}'.format(*version.hdf5_built_version_tuple)\n"
     ]
    }
   ],
   "source": [
    "import tensorflow as tf\n",
    "import pickle\n",
    "import numpy as np\n",
    "import math as math\n",
    "import matplotlib.pyplot as plt\n",
    "import os\n",
    "from sklearn.metrics import accuracy_score\n",
    "from sklearn.metrics import precision_score\n",
    "from sklearn.metrics import recall_score\n",
    "from sklearn.metrics import f1_score"
   ]
  },
  {
   "cell_type": "code",
   "execution_count": 2,
   "metadata": {},
   "outputs": [],
   "source": [
    "def create_model(channel, activation='relu', dropout=0.0, optimizer='adam', neurons=64): \n",
    "    model = tf.keras.Sequential()\n",
    "    model.add(tf.keras.layers.Conv2D(neurons, kernel_size=3, padding='same', activation=activation, input_shape=(32, 32, channel)))\n",
    "    model.add(tf.keras.layers.MaxPool2D(pool_size=2))\n",
    "    model.add(tf.keras.layers.Dropout(dropout))\n",
    "\n",
    "    model.add(tf.keras.layers.Flatten())\n",
    "    model.add(tf.keras.layers.Dense(256, activation=activation))\n",
    "    model.add(tf.keras.layers.Dense(256, activation=activation))\n",
    "    model.add(tf.keras.layers.Dense(43, activation='softmax'))\n",
    "  \n",
    "    model.compile(loss=tf.keras.losses.sparse_categorical_crossentropy, \n",
    "                optimizer=tf.keras.optimizers.Adam(), \n",
    "                metrics=['accuracy'])\n",
    "\n",
    "    model.summary()\n",
    "\n",
    "    return model"
   ]
  },
  {
   "cell_type": "code",
   "execution_count": 3,
   "metadata": {},
   "outputs": [],
   "source": [
    "def generate_plots(directory, file, model_history, epochs):\n",
    "    \"\"\"\n",
    "    A method that takes the model history of a trained model and plots its:\n",
    "    1. Training accuracy\n",
    "    2. Training loss\n",
    "    3. Validation accuracy\n",
    "    4. Validation loss\n",
    "    \"\"\"\n",
    "    acc = model_history.history['acc']\n",
    "    val_acc = model_history.history['val_acc']\n",
    "    loss = model_history.history['loss']\n",
    "    val_loss = model_history.history['val_loss']\n",
    "\n",
    "\n",
    "    plt.figure(1)\n",
    "    plt.suptitle('Accuracy learning curve', fontsize=20)\n",
    "    plt.xlabel('epochs', fontsize=14)\n",
    "    plt.ylabel('accuracy', fontsize=14)\n",
    "    plt.plot(acc, label='training accuracy')\n",
    "    plt.plot(val_acc, label='validation accuracy')\n",
    "    plt.xticks(np.arange(0, epochs + epochs/10, epochs/10))\n",
    "    plt.legend(loc=\"lower right\")\n",
    "    plt.savefig(\"{}/accuracy_{}.png\".format(directory, file), dpi=300)\n",
    "\n",
    "    plt.figure(2)\n",
    "    plt.suptitle('Loss learning curve', fontsize=20)\n",
    "    plt.xlabel('epochs', fontsize=14)\n",
    "    plt.ylabel('loss', fontsize=14)\n",
    "    plt.plot(loss, label='training loss')\n",
    "    plt.plot(val_loss, label='validation loss')\n",
    "    plt.xticks(np.arange(0, epochs + epochs/10, epochs/10))\n",
    "    plt.legend(loc=\"upper right\")\n",
    "    plt.savefig(\"{}/loss_{}.png\".format(directory, file), dpi=300)"
   ]
  },
  {
   "cell_type": "code",
   "execution_count": 4,
   "metadata": {},
   "outputs": [],
   "source": [
    "def create_model2(activation, image_shape=(32, 32, 3)):\n",
    "\n",
    "    # initialize the VGG16 model from the keras library\n",
    "    vgg16_model = tf.keras.applications.VGG16(include_top=False,\n",
    "                                              weights='imagenet',\n",
    "                                              input_shape=image_shape,\n",
    "                                              classes=43)\n",
    "\n",
    "    model = tf.keras.Sequential()\n",
    "\n",
    "    # Freeze the layers\n",
    "    for layer in model.layers:\n",
    "        layer.trainable = False\n",
    "    \n",
    "    model.add(vgg16_model)\n",
    "    model.add(tf.keras.layers.Flatten())\n",
    "    model.add(tf.keras.layers.Dense(512, activation=activation))\n",
    "    model.add(tf.keras.layers.Dropout(0.4))\n",
    "#     model.add(tf.keras.layers.Dense(512, activation=activation))\n",
    "#     model.add(tf.keras.layers.Dropout(0.4))\n",
    "#     model.add(tf.keras.layers.Dense(256, activation=activation))\n",
    "#     model.add(tf.keras.layers.Dropout(0.4))\n",
    "\n",
    "    # Add 'softmax' instead of earlier 'prediction' layer.\n",
    "    model.add(tf.keras.layers.Dense(43, activation='softmax'))\n",
    "\n",
    "    model.compile(loss=tf.keras.losses.sparse_categorical_crossentropy, \n",
    "                optimizer=tf.keras.optimizers.Adam(), \n",
    "                metrics=['accuracy'])\n",
    "\n",
    "    model.summary()\n",
    "\n",
    "    return model"
   ]
  },
  {
   "cell_type": "code",
   "execution_count": 5,
   "metadata": {},
   "outputs": [],
   "source": [
    "# Variables\n",
    "EPOCHS = 50\n",
    "BATCH_SIZE = 512\n",
    "file = 1"
   ]
  },
  {
   "cell_type": "code",
   "execution_count": 6,
   "metadata": {
    "lines_to_next_cell": 2
   },
   "outputs": [],
   "source": [
    "if file==0 or file==1 or file==2 or file==3:\n",
    "    channel = 3\n",
    "else:\n",
    "    channel = 1\n",
    "\n",
    "# Opening file for reading in binary mode\n",
    "with open('../data/data{}.pickle'.format(file), 'rb') as f:\n",
    "    data = pickle.load(f, encoding='latin1')  # dictionary type"
   ]
  },
  {
   "cell_type": "code",
   "execution_count": 7,
   "metadata": {},
   "outputs": [],
   "source": [
    "y_train = data['y_train']\n",
    "y_val = data['y_validation']\n",
    "y_test = data['y_test']"
   ]
  },
  {
   "cell_type": "code",
   "execution_count": 8,
   "metadata": {},
   "outputs": [],
   "source": [
    "# Making channels come at the end\n",
    "X_train = data['x_train'] = data['x_train'].transpose(0, 2, 3, 1)\n",
    "X_val = data['x_validation'] = data['x_validation'].transpose(0, 2, 3, 1)\n",
    "X_test = data['x_test'] = data['x_test'].transpose(0, 2, 3, 1)"
   ]
  },
  {
   "cell_type": "code",
   "execution_count": 9,
   "metadata": {},
   "outputs": [
    {
     "name": "stdout",
     "output_type": "stream",
     "text": [
      "x_test: (12630, 32, 32, 3)\n",
      "y_validation: (4410,)\n",
      "x_validation: (4410, 32, 32, 3)\n",
      "labels: 43\n",
      "x_train: (86989, 32, 32, 3)\n",
      "y_test: (12630,)\n",
      "y_train: (86989,)\n"
     ]
    }
   ],
   "source": [
    "# Showing loaded data from file\n",
    "for i, j in data.items():\n",
    "    if i == 'labels':\n",
    "        print(i + ':', len(j))\n",
    "    else:\n",
    "        print(i + ':', j.shape)"
   ]
  },
  {
   "cell_type": "code",
   "execution_count": 10,
   "metadata": {},
   "outputs": [
    {
     "name": "stdout",
     "output_type": "stream",
     "text": [
      "WARNING:tensorflow:From C:\\tools\\Anaconda3\\envs\\tf\\lib\\site-packages\\tensorflow\\python\\ops\\init_ops.py:1251: calling VarianceScaling.__init__ (from tensorflow.python.ops.init_ops) with dtype is deprecated and will be removed in a future version.\n",
      "Instructions for updating:\n",
      "Call initializer instance with the dtype argument instead of passing it to the constructor\n",
      "Model: \"sequential\"\n",
      "_________________________________________________________________\n",
      "Layer (type)                 Output Shape              Param #   \n",
      "=================================================================\n",
      "vgg16 (Model)                (None, 1, 1, 512)         14714688  \n",
      "_________________________________________________________________\n",
      "flatten (Flatten)            (None, 512)               0         \n",
      "_________________________________________________________________\n",
      "dense (Dense)                (None, 512)               262656    \n",
      "_________________________________________________________________\n",
      "dropout (Dropout)            (None, 512)               0         \n",
      "_________________________________________________________________\n",
      "dense_1 (Dense)              (None, 43)                22059     \n",
      "=================================================================\n",
      "Total params: 14,999,403\n",
      "Trainable params: 14,999,403\n",
      "Non-trainable params: 0\n",
      "_________________________________________________________________\n"
     ]
    }
   ],
   "source": [
    "# Initialize the directories\n",
    "save_model = \"saved_models\"\n",
    "plot_dir = \"plots\"\n",
    "results_dir = \"results\"\n",
    "\n",
    "root_dir = os.path.abspath('./')\n",
    "model_save_dir = os.path.join(root_dir, save_model)\n",
    "plot_save_dir = os.path.join(root_dir, plot_dir)\n",
    "results_save_dir = os.path.join(root_dir, results_dir)\n",
    "\n",
    "\n",
    "os.makedirs(model_save_dir, exist_ok=True)\n",
    "os.makedirs(plot_save_dir, exist_ok=True)\n",
    "os.makedirs(results_save_dir, exist_ok=True)\n",
    "\n",
    "\n",
    "# model = create_model(channel=channel, activation=\"tanh\", dropout=0.3, optimizer=\"adam\", neurons=128)\n",
    "model = create_model2(activation=\"relu\")\n",
    "\n",
    "# For enabling early stopping\n",
    "es = tf.keras.callbacks.EarlyStopping(monitor='val_loss', patience=5)\n",
    "mc = tf.keras.callbacks.ModelCheckpoint('{}/best_model_data{}.h5'.format(model_save_dir, file), monitor='val_loss', save_best_only=True, verbose=1)"
   ]
  },
  {
   "cell_type": "code",
   "execution_count": 11,
   "metadata": {},
   "outputs": [
    {
     "name": "stdout",
     "output_type": "stream",
     "text": [
      "Epoch 1/50\n",
      "338/339 [============================>.] - ETA: 0s - loss: 3.5510 - acc: 0.0561\n",
      "Epoch 00001: val_loss improved from inf to 2.88275, saving model to C:\\Users\\knarang\\Documents\\F3\\TrafficSignCNN\\step 7\\saved_models/best_model_data0.h5\n",
      "339/339 [==============================] - 64s 190ms/step - loss: 3.5485 - acc: 0.0565 - val_loss: 2.8828 - val_acc: 0.1302\n",
      "Epoch 2/50\n",
      "338/339 [============================>.] - ETA: 0s - loss: 1.2799 - acc: 0.5527\n",
      "Epoch 00002: val_loss improved from 2.88275 to 0.69616, saving model to C:\\Users\\knarang\\Documents\\F3\\TrafficSignCNN\\step 7\\saved_models/best_model_data0.h5\n",
      "339/339 [==============================] - 57s 169ms/step - loss: 1.2782 - acc: 0.5533 - val_loss: 0.6962 - val_acc: 0.7986\n",
      "Epoch 3/50\n",
      "338/339 [============================>.] - ETA: 0s - loss: 0.2711 - acc: 0.9157\n",
      "Epoch 00003: val_loss improved from 0.69616 to 0.26447, saving model to C:\\Users\\knarang\\Documents\\F3\\TrafficSignCNN\\step 7\\saved_models/best_model_data0.h5\n",
      "339/339 [==============================] - 59s 175ms/step - loss: 0.2707 - acc: 0.9158 - val_loss: 0.2645 - val_acc: 0.9431\n",
      "Epoch 4/50\n",
      "338/339 [============================>.] - ETA: 0s - loss: 0.1190 - acc: 0.9695\n",
      "Epoch 00004: val_loss improved from 0.26447 to 0.19779, saving model to C:\\Users\\knarang\\Documents\\F3\\TrafficSignCNN\\step 7\\saved_models/best_model_data0.h5\n",
      "339/339 [==============================] - 56s 165ms/step - loss: 0.1189 - acc: 0.9695 - val_loss: 0.1978 - val_acc: 0.9662\n",
      "Epoch 5/50\n",
      "338/339 [============================>.] - ETA: 0s - loss: 0.1087 - acc: 0.9725\n",
      "Epoch 00005: val_loss did not improve from 0.19779\n",
      "339/339 [==============================] - 56s 166ms/step - loss: 0.1089 - acc: 0.9725 - val_loss: 0.3057 - val_acc: 0.9533\n",
      "Epoch 6/50\n",
      "338/339 [============================>.] - ETA: 0s - loss: 0.0663 - acc: 0.9836\n",
      "Epoch 00006: val_loss did not improve from 0.19779\n",
      "339/339 [==============================] - 56s 167ms/step - loss: 0.0662 - acc: 0.9836 - val_loss: 0.2616 - val_acc: 0.9649\n",
      "Epoch 7/50\n",
      "338/339 [============================>.] - ETA: 0s - loss: 0.0507 - acc: 0.9875\n",
      "Epoch 00007: val_loss improved from 0.19779 to 0.15757, saving model to C:\\Users\\knarang\\Documents\\F3\\TrafficSignCNN\\step 7\\saved_models/best_model_data0.h5\n",
      "339/339 [==============================] - 57s 168ms/step - loss: 0.0507 - acc: 0.9875 - val_loss: 0.1576 - val_acc: 0.9735\n",
      "Epoch 8/50\n",
      "338/339 [============================>.] - ETA: 0s - loss: 0.0689 - acc: 0.9833\n",
      "Epoch 00008: val_loss did not improve from 0.15757\n",
      "339/339 [==============================] - 57s 169ms/step - loss: 0.0693 - acc: 0.9832 - val_loss: 0.1819 - val_acc: 0.9771\n",
      "Epoch 9/50\n",
      "338/339 [============================>.] - ETA: 0s - loss: 0.0834 - acc: 0.9813\n",
      "Epoch 00009: val_loss did not improve from 0.15757\n",
      "339/339 [==============================] - 57s 169ms/step - loss: 0.0833 - acc: 0.9813 - val_loss: 0.2294 - val_acc: 0.9791\n",
      "Epoch 10/50\n",
      "338/339 [============================>.] - ETA: 0s - loss: 0.0622 - acc: 0.9863\n",
      "Epoch 00010: val_loss did not improve from 0.15757\n",
      "339/339 [==============================] - 55s 163ms/step - loss: 0.0622 - acc: 0.9863 - val_loss: 0.2331 - val_acc: 0.9794\n",
      "Epoch 11/50\n",
      "338/339 [============================>.] - ETA: 0s - loss: 0.0560 - acc: 0.9875\n",
      "Epoch 00011: val_loss improved from 0.15757 to 0.10182, saving model to C:\\Users\\knarang\\Documents\\F3\\TrafficSignCNN\\step 7\\saved_models/best_model_data0.h5\n",
      "339/339 [==============================] - 57s 168ms/step - loss: 0.0559 - acc: 0.9875 - val_loss: 0.1018 - val_acc: 0.9855\n",
      "Epoch 12/50\n",
      "338/339 [============================>.] - ETA: 0s - loss: 0.0352 - acc: 0.9915\n",
      "Epoch 00012: val_loss did not improve from 0.10182\n",
      "339/339 [==============================] - 57s 167ms/step - loss: 0.0351 - acc: 0.9915 - val_loss: 0.1070 - val_acc: 0.9803\n",
      "Epoch 13/50\n",
      "338/339 [============================>.] - ETA: 0s - loss: 0.0365 - acc: 0.9916\n",
      "Epoch 00013: val_loss did not improve from 0.10182\n",
      "339/339 [==============================] - 57s 168ms/step - loss: 0.0365 - acc: 0.9916 - val_loss: 0.1220 - val_acc: 0.9810\n",
      "Epoch 14/50\n",
      "338/339 [============================>.] - ETA: 0s - loss: 0.0576 - acc: 0.9880\n",
      "Epoch 00014: val_loss improved from 0.10182 to 0.09033, saving model to C:\\Users\\knarang\\Documents\\F3\\TrafficSignCNN\\step 7\\saved_models/best_model_data0.h5\n",
      "339/339 [==============================] - 57s 169ms/step - loss: 0.0576 - acc: 0.9880 - val_loss: 0.0903 - val_acc: 0.9837\n",
      "Epoch 15/50\n",
      "338/339 [============================>.] - ETA: 0s - loss: 0.0734 - acc: 0.9851\n",
      "Epoch 00015: val_loss did not improve from 0.09033\n",
      "339/339 [==============================] - 58s 170ms/step - loss: 0.0733 - acc: 0.9851 - val_loss: 0.2295 - val_acc: 0.9810\n",
      "Epoch 16/50\n",
      "338/339 [============================>.] - ETA: 0s - loss: 0.0484 - acc: 0.9909\n",
      "Epoch 00016: val_loss did not improve from 0.09033\n",
      "339/339 [==============================] - 57s 167ms/step - loss: 0.0485 - acc: 0.9908 - val_loss: 0.2873 - val_acc: 0.9776\n",
      "Epoch 17/50\n",
      "338/339 [============================>.] - ETA: 0s - loss: 0.0550 - acc: 0.9887\n",
      "Epoch 00017: val_loss improved from 0.09033 to 0.08918, saving model to C:\\Users\\knarang\\Documents\\F3\\TrafficSignCNN\\step 7\\saved_models/best_model_data0.h5\n",
      "339/339 [==============================] - 59s 175ms/step - loss: 0.0550 - acc: 0.9887 - val_loss: 0.0892 - val_acc: 0.9900\n",
      "Epoch 18/50\n",
      "338/339 [============================>.] - ETA: 0s - loss: 0.0359 - acc: 0.9926\n",
      "Epoch 00018: val_loss did not improve from 0.08918\n",
      "339/339 [==============================] - 58s 171ms/step - loss: 0.0358 - acc: 0.9926 - val_loss: 0.1248 - val_acc: 0.9855\n",
      "Epoch 19/50\n",
      "338/339 [============================>.] - ETA: 0s - loss: 0.0440 - acc: 0.9914\n",
      "Epoch 00019: val_loss did not improve from 0.08918\n",
      "339/339 [==============================] - 57s 168ms/step - loss: 0.0439 - acc: 0.9914 - val_loss: 0.1537 - val_acc: 0.9821\n",
      "Epoch 20/50\n",
      "338/339 [============================>.] - ETA: 0s - loss: 0.0473 - acc: 0.9907\n",
      "Epoch 00020: val_loss did not improve from 0.08918\n",
      "339/339 [==============================] - 57s 168ms/step - loss: 0.0472 - acc: 0.9908 - val_loss: 0.1317 - val_acc: 0.9803\n",
      "Epoch 21/50\n",
      "338/339 [============================>.] - ETA: 0s - loss: 0.0614 - acc: 0.9883\n",
      "Epoch 00021: val_loss improved from 0.08918 to 0.07378, saving model to C:\\Users\\knarang\\Documents\\F3\\TrafficSignCNN\\step 7\\saved_models/best_model_data0.h5\n",
      "339/339 [==============================] - 57s 170ms/step - loss: 0.0614 - acc: 0.9883 - val_loss: 0.0738 - val_acc: 0.9900\n",
      "Epoch 22/50\n",
      "338/339 [============================>.] - ETA: 0s - loss: 0.0333 - acc: 0.9935\n",
      "Epoch 00022: val_loss did not improve from 0.07378\n",
      "339/339 [==============================] - 56s 166ms/step - loss: 0.0332 - acc: 0.9935 - val_loss: 0.3352 - val_acc: 0.9823\n",
      "Epoch 23/50\n",
      "338/339 [============================>.] - ETA: 0s - loss: 0.0481 - acc: 0.9912\n",
      "Epoch 00023: val_loss did not improve from 0.07378\n",
      "339/339 [==============================] - 59s 174ms/step - loss: 0.0480 - acc: 0.9912 - val_loss: 0.1625 - val_acc: 0.9819\n",
      "Epoch 24/50\n",
      "338/339 [============================>.] - ETA: 0s - loss: 0.0886 - acc: 0.9845- ETA: 4s -\n",
      "Epoch 00024: val_loss did not improve from 0.07378\n",
      "339/339 [==============================] - 58s 170ms/step - loss: 0.0884 - acc: 0.9845 - val_loss: 0.1232 - val_acc: 0.9875\n",
      "Epoch 25/50\n",
      "338/339 [============================>.] - ETA: 0s - loss: 0.0644 - acc: 0.9882\n",
      "Epoch 00025: val_loss did not improve from 0.07378\n",
      "339/339 [==============================] - 58s 170ms/step - loss: 0.0646 - acc: 0.9882 - val_loss: 0.2309 - val_acc: 0.9741\n",
      "Epoch 26/50\n",
      "338/339 [============================>.] - ETA: 0s - loss: 0.0619 - acc: 0.9883\n",
      "Epoch 00026: val_loss did not improve from 0.07378\n",
      "339/339 [==============================] - 56s 166ms/step - loss: 0.0620 - acc: 0.9882 - val_loss: 0.1676 - val_acc: 0.9773\n"
     ]
    }
   ],
   "source": [
    "with tf.device('/device:GPU:0'):\n",
    "\n",
    "    # Random Rotations\n",
    "    # define data preparation\n",
    "    datagen = tf.keras.preprocessing.image.ImageDataGenerator(rotation_range=20, brightness_range=[0.3, 0.6])\n",
    "    datagen.fit(X_train)\n",
    "    \n",
    "    \n",
    "    history = model.fit_generator(datagen.flow(X_train, y_train, batch_size=BATCH_SIZE),\n",
    "                                      validation_data=(X_val, y_val),\n",
    "                                      steps_per_epoch=len(X_train) // BATCH_SIZE,\n",
    "                                      epochs=EPOCHS,\n",
    "                                      callbacks=[es, mc])\n",
    "            "
   ]
  },
  {
   "cell_type": "code",
   "execution_count": 12,
   "metadata": {},
   "outputs": [],
   "source": [
    "predictions = model.predict(X_test, batch_size=512)\n",
    "\n",
    "y_pred = [np.argmax(prediction) for prediction in predictions]\n",
    "\n",
    "acc = accuracy_score(y_test, y_pred)\n",
    "pre = precision_score(y_test, y_pred, average=\"macro\")\n",
    "rec = recall_score(y_test, y_pred, average=\"macro\")\n",
    "f1 = f1_score(y_test, y_pred, average=\"macro\")"
   ]
  },
  {
   "cell_type": "code",
   "execution_count": 13,
   "metadata": {},
   "outputs": [],
   "source": [
    "f = open(\"{}/results_{}.txt\".format(results_save_dir, file), \"w+\")\n",
    "f.write(\"Accuracy: {}\\n\".format(acc))\n",
    "f.write(\"Precision: {}\\n\".format(pre))\n",
    "f.write(\"Recall: {}\\n\".format(rec))\n",
    "f.write(\"F1 score: {}\\n\".format(f1))\n",
    "f.close()"
   ]
  },
  {
   "cell_type": "code",
   "execution_count": 14,
   "metadata": {},
   "outputs": [
    {
     "data": {
      "image/png": "[encoded data removed]",
      "text/plain": [
       "<Figure size 432x288 with 1 Axes>"
      ]
     },
     "metadata": {
      "needs_background": "light"
     },
     "output_type": "display_data"
    },
    {
     "data": {
      "image/png": "[encoded data removed]",
      "text/plain": [
       "<Figure size 432x288 with 1 Axes>"
      ]
     },
     "metadata": {
      "needs_background": "light"
     },
     "output_type": "display_data"
    }
   ],
   "source": [
    "generate_plots(plot_save_dir, file, history, EPOCHS)"
   ]
  },
  {
   "cell_type": "code",
   "execution_count": 15,
   "metadata": {},
   "outputs": [],
   "source": [
    "model.save('{}/best_model_data{}.h5'.format(model_save_dir, file)) \n",
    "\n",
    "# Recreate the exact same model, including its weights and the optimizer\n",
    "# new_model = tf.keras.models.load_model('my_model.h5')\n",
    "\n",
    "# Show the model architecture\n",
    "# new_model.summary()"
   ]
  },
  {
   "cell_type": "code",
   "execution_count": null,
   "metadata": {
    "lines_to_next_cell": 2
   },
   "outputs": [],
   "source": []
  }
 ],
 "metadata": {
  "jupytext": {
   "cell_metadata_filter": "-all",
   "main_language": "python",
   "notebook_metadata_filter": "-all"
  },
  "kernelspec": {
   "display_name": "Python 3",
   "language": "python",
   "name": "python3"
  },
  "language_info": {
   "codemirror_mode": {
    "name": "ipython",
    "version": 3
   },
   "file_extension": ".py",
   "mimetype": "text/x-python",
   "name": "python",
   "nbconvert_exporter": "python",
   "pygments_lexer": "ipython3",
   "version": "3.7.1"
  }
 },
 "nbformat": 4,
 "nbformat_minor": 2
}
