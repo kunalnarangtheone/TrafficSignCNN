{
 "cells": [
  {
   "cell_type": "code",
   "execution_count": 1,
   "metadata": {},
   "outputs": [
    {
     "name": "stderr",
     "output_type": "stream",
     "text": [
      "C:\\tools\\Anaconda3\\envs\\tf\\lib\\site-packages\\h5py\\__init__.py:72: UserWarning: h5py is running against HDF5 1.10.2 when it was built against 1.10.3, this may cause problems\n",
      "  '{0}.{1}.{2}'.format(*version.hdf5_built_version_tuple)\n"
     ]
    }
   ],
   "source": [
    "import os\n",
    "import tensorflow as tf\n",
    "import pickle\n",
    "import numpy as np\n",
    "import math as math\n",
    "import matplotlib.pyplot as plt"
   ]
  },
  {
   "cell_type": "code",
   "execution_count": null,
   "metadata": {},
   "outputs": [],
   "source": [
    "def vgg16_model(IMAGE_SHAPE=(32, 32, 1), learning_rate=0.001):\n",
    "\n",
    "    # model = tf.keras.Sequential()\n",
    "\n",
    "    # # Remove the prediction layer and add to new model\n",
    "    # for layer in vgg16_model.layers[:-1]: \n",
    "    #     model.add(layer)    \n",
    "\n",
    "    # # Freeze the layers \n",
    "    # for layer in model.layers:\n",
    "    #     layer.trainable = False\n",
    "\n",
    "    # # Add 'softmax' instead of earlier 'prediction' layer.\n",
    "    # model.add(tf.keras.layers.Dense(5, activation='softmax'))\n",
    "\n",
    "\n",
    "    # reset_keras()\n",
    "\n",
    "    vgg16 = tf.keras.applications.VGG16(include_top=True,\n",
    "                                        weights='imagenet',\n",
    "                                        input_tensor=None,\n",
    "                                        input_shape=(32, 32, 1),\n",
    "                                        pooling=None,\n",
    "                                        classes=43)\n",
    "\n",
    "    # input_ = tf.keras.layers.Input(shape=IMAGE_SHAPE)\n",
    "    vgg16.compile(loss=tf.keras.losses.sparse_categorical_crossentropy, \n",
    "                optimizer=tf.keras.optimizers.Adam(learning_rate), \n",
    "                metrics=['accuracy'])\n",
    "\n",
    "    vgg16.summary()\n",
    "\n",
    "    return vgg16"
   ]
  },
  {
   "cell_type": "code",
   "execution_count": null,
   "metadata": {},
   "outputs": [],
   "source": [
    "def generate_plots(plot_cntr, history, plot_acc, plot_loss, ep, bs, lr):\n",
    "    \"\"\"\n",
    "    A method that takes the model history of a trained model and plots its:\n",
    "    1. Training accuracy\n",
    "    2. Training loss\n",
    "    3. Validation accuracy\n",
    "    4. Validation loss\n",
    "    \"\"\"\n",
    "    acc = model_history.history['acc']\n",
    "    val_acc = model_history.history['val_acc']\n",
    "    loss = model_history.history['loss']\n",
    "    val_loss = model_history.history['val_loss']\n",
    "\n",
    "\n",
    "    plt.figure(plot_cntr)\n",
    "    plt.suptitle('Accuracy learning curve', fontsize=20)\n",
    "    plt.xlabel('epochs', fontsize=14)\n",
    "    plt.ylabel('accuracy', fontsize=14)\n",
    "    plt.plot(acc, label='training accuracy')\n",
    "    plt.plot(val_acc, label='validation accuracy')\n",
    "    plt.xticks(np.arange(0, epochs + epochs/10, epochs/10))\n",
    "    plt.legend(loc=\"lower right\")\n",
    "    plt.savefig(\"{}accuracy_{}_{}_{}.png\".format(plot_acc, ep, bs, lr), dpi=250)\n",
    "\n",
    "    plt.figure(plot_cntr+500)\n",
    "    plt.suptitle('Loss learning curve', fontsize=20)\n",
    "    plt.xlabel('epochs', fontsize=14)\n",
    "    plt.ylabel('loss', fontsize=14)\n",
    "    plt.plot(loss, label='training loss')\n",
    "    plt.plot(val_loss, label='validation loss')\n",
    "    plt.xticks(np.arange(0, epochs + epochs/10, epochs/10))\n",
    "    plt.legend(loc=\"upper right\")\n",
    "    plt.savefig(\"{}loss_{}_{}_{}.png\".format(plot_loss, ep, bs, lr), dpi=250)\n"
   ]
  },
  {
   "cell_type": "code",
   "execution_count": null,
   "metadata": {},
   "outputs": [],
   "source": [
    "def best_results(file, model_history):\n",
    "    \"\"\"\n",
    "    A method that prints the best validation accuracy and loss to a best_results.txt file.\n",
    "    \"\"\"\n",
    "    acc = model_history.history['acc']\n",
    "    val_acc = model_history.history['val_acc']\n",
    "    loss = model_history.history['loss']\n",
    "    val_loss = model_history.history['val_loss']\n",
    "\n",
    "    \n",
    "    f = open(file, \"w+\")\n",
    "    f.write(\"Training accuracy = {}\\n\".format(acc))\n",
    "    f.write(\"----------------------\\n\")\n",
    "    f.write(\"Training loss = {}\\n\".format(loss))\n",
    "    f.write(\"----------------------\\n\")\n",
    "    f.write(\"Validation accuracy = {}\\n\".format(val_acc))\n",
    "    f.write(\"----------------------\\n\")\n",
    "    f.write(\"Validation loss = {}\\n\".format(val_loss))\n",
    "    f.write(\"----------------------\\n\")\n",
    "    f.write(\"----------------------\\n\\n\")\n",
    "    f.close()\n"
   ]
  },
  {
   "cell_type": "code",
   "execution_count": 8,
   "metadata": {},
   "outputs": [],
   "source": [
    "# change this for different files\n",
    "file = 0"
   ]
  },
  {
   "cell_type": "code",
   "execution_count": 9,
   "metadata": {
    "lines_to_next_cell": 2
   },
   "outputs": [],
   "source": [
    "# Opening file for reading in binary mode\n",
    "with open('./data/data{}.pickle'.format(file), 'rb') as f:\n",
    "    data = pickle.load(f, encoding='latin1')  # dictionary type"
   ]
  },
  {
   "cell_type": "code",
   "execution_count": 10,
   "metadata": {},
   "outputs": [],
   "source": [
    "# Making channels come at the end\n",
    "X_train = data['x_train'] = data['x_train'].transpose(0, 2, 3, 1)\n",
    "X_val = data['x_validation'] = data['x_validation'].transpose(0, 2, 3, 1)\n",
    "X_test = data['x_test'] = data['x_test'].transpose(0, 2, 3, 1)\n",
    "\n",
    "y_train = data['y_train']\n",
    "y_val = data['y_validation']\n",
    "y_test = data['y_test']"
   ]
  },
  {
   "cell_type": "code",
   "execution_count": 11,
   "metadata": {},
   "outputs": [
    {
     "name": "stdout",
     "output_type": "stream",
     "text": [
      "x_test: (12630, 32, 32, 3)\n",
      "y_validation: (4410,)\n",
      "x_validation: (4410, 32, 32, 3)\n",
      "labels: 43\n",
      "x_train: (86989, 32, 32, 3)\n",
      "y_test: (12630,)\n",
      "y_train: (86989,)\n"
     ]
    }
   ],
   "source": [
    "# # Showing loaded data from file\n",
    "# for i, j in data.items():\n",
    "#     if i == 'labels':\n",
    "#         print(i + ':', len(j))\n",
    "#     else:\n",
    "#         print(i + ':', j.shape)"
   ]
  },
  {
   "cell_type": "code",
   "execution_count": null,
   "metadata": {},
   "outputs": [],
   "source": [
    "epochs = [30]\n",
    "batch_size = [128, 256, 512]\n",
    "learning_rate = [0.01, 0.001, 0.0001]\n",
    "\n",
    "# plot directory for accuracy and loss\n",
    "results = \"./vgg/\"\n",
    "plot_acc = \"./vgg/acc/\"\n",
    "plot_loss = \"./vgg/loss/\"\n",
    "\n",
    "os.makedirs(plot_acc, exist_ok=True)\n",
    "os.makedirs(plot_loss, exist_ok=True)"
   ]
  },
  {
   "cell_type": "code",
   "execution_count": null,
   "metadata": {},
   "outputs": [],
   "source": [
    "plot_cntr = 0\n",
    "\n",
    "with tf.device('/device:GPU:0'):\n",
    "    \n",
    "    for ep in epochs:\n",
    "        for bs in batch_size:\n",
    "            for lr in learning_rate:\n",
    "                \n",
    "                print(\"-------------------\")\n",
    "                print(\"Compiling VGG16 model with {} epochs, {} batch size, learning rate {}\".format(ep, bs, lr))\n",
    "                print(\"-------------------\")\n",
    "                \n",
    "                model = vgg16_model(learning_rate=lr)\n",
    "                \n",
    "                print(\"-------------------\")\n",
    "                print(\"Training VGG16 model with {} epochs, {} batch size, learning rate {}\".format(ep, bs, lr))\n",
    "                print(\"-------------------\")\n",
    "                \n",
    "                \n",
    "                history = model.fit(X_train, y_train, batch_size=bs, epochs=ep, validation_data=(X_val, y_val))\n",
    "                \n",
    "                predictions = model.predict(X_test, batch_size=bs)\n",
    "                \n",
    "                generate_plots(plot_cntr, history, plot_acc, plot_loss, ep, bs, lr)\n",
    "\n",
    "                best_results(file='{}results_{}_{}_{}.txt'.format(results, ep, bs, lr), history)\n",
    "                \n",
    "                plot_cntr+=1"
   ]
  },
  {
   "cell_type": "code",
   "execution_count": null,
   "metadata": {},
   "outputs": [],
   "source": []
  },
  {
   "cell_type": "code",
   "execution_count": null,
   "metadata": {},
   "outputs": [],
   "source": []
  },
  {
   "cell_type": "code",
   "execution_count": null,
   "metadata": {},
   "outputs": [],
   "source": []
  },
  {
   "cell_type": "code",
   "execution_count": null,
   "metadata": {
    "lines_to_next_cell": 2
   },
   "outputs": [],
   "source": []
  }
 ],
 "metadata": {
  "jupytext": {
   "cell_metadata_filter": "-all",
   "main_language": "python",
   "notebook_metadata_filter": "-all"
  },
  "kernelspec": {
   "display_name": "Python 3",
   "language": "python",
   "name": "python3"
  },
  "language_info": {
   "codemirror_mode": {
    "name": "ipython",
    "version": 3
   },
   "file_extension": ".py",
   "mimetype": "text/x-python",
   "name": "python",
   "nbconvert_exporter": "python",
   "pygments_lexer": "ipython3",
   "version": "3.7.1"
  }
 },
 "nbformat": 4,
 "nbformat_minor": 2
}
